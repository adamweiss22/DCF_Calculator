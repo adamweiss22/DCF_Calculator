{
 "cells": [
  {
   "cell_type": "code",
   "execution_count": 25,
   "metadata": {},
   "outputs": [],
   "source": [
    "import pandas as pd\n",
    "import yfinance as yf"
   ]
  },
  {
   "cell_type": "code",
   "execution_count": 26,
   "metadata": {},
   "outputs": [],
   "source": [
    "msft = yf.Ticker(\"MSFT\")\n"
   ]
  },
  {
   "cell_type": "code",
   "execution_count": 27,
   "metadata": {},
   "outputs": [
    {
     "name": "stdout",
     "output_type": "stream",
     "text": [
      "Base Case: 1.1173623672373567, Best Case: 1.163997306540595, Worst Case: 1.0707274279341181\n"
     ]
    }
   ],
   "source": [
    "def calculate_historical_growth_rate(financials):\n",
    "    revenue = financials.income_stmt.loc['Total Revenue']\n",
    "    growth_rates = revenue.pct_change().dropna()\n",
    "    avg_growth_rate = growth_rates.mean()\n",
    "    best_case = avg_growth_rate - growth_rates.std()\n",
    "    worst_case = avg_growth_rate + growth_rates.std()\n",
    "    return 1+(-1*avg_growth_rate), 1+(-1*best_case), 1+(-1*worst_case)\n",
    "\n",
    "avg_growth_rate, best_case, worst_case = calculate_historical_growth_rate(msft)\n",
    "print(f\"Base Case: {avg_growth_rate}, Best Case: {best_case}, Worst Case: {worst_case}\")\n"
   ]
  },
  {
   "cell_type": "markdown",
   "metadata": {},
   "source": [
    "# Revenue Projections"
   ]
  },
  {
   "cell_type": "code",
   "execution_count": 28,
   "metadata": {},
   "outputs": [
    {
     "data": {
      "text/plain": [
       "[np.float64(273890098181.95535),\n",
       " np.float64(306034488467.4617),\n",
       " np.float64(341951420490.27655),\n",
       " np.float64(382083648679.19214),\n",
       " np.float64(426925890170.86865)]"
      ]
     },
     "execution_count": 28,
     "metadata": {},
     "output_type": "execute_result"
    }
   ],
   "source": [
    "future_revenue = []\n",
    "for i in range(1,6):\n",
    "    future_revenue.append(merged_df.loc['Total Revenue'][merged_df.columns[0]]*avg_growth_rate**i)\n",
    "future_revenue"
   ]
  },
  {
   "cell_type": "markdown",
   "metadata": {},
   "source": [
    "# OPEX Projections as a percent of revenue"
   ]
  },
  {
   "cell_type": "code",
   "execution_count": 29,
   "metadata": {},
   "outputs": [
    {
     "data": {
      "text/plain": [
       "[np.float64(71771755213.06229),\n",
       " np.float64(80195058305.64737),\n",
       " np.float64(89606940189.13599),\n",
       " np.float64(100123422810.62923),\n",
       " np.float64(111874144727.59142)]"
      ]
     },
     "execution_count": 29,
     "metadata": {},
     "output_type": "execute_result"
    }
   ],
   "source": [
    "future_opex = []\n",
    "opex_as_perc_of_rev = (merged_df.loc['Operating Expense'] / merged_df.loc['Total Revenue']).mean()\n",
    "for i in range(5):\n",
    "    future_opex.append((future_revenue[i] * opex_as_perc_of_rev))\n",
    "\n",
    "future_opex"
   ]
  },
  {
   "cell_type": "markdown",
   "metadata": {},
   "source": [
    "# Working Capital Changes: Projected as a percentage of revenue.\n"
   ]
  },
  {
   "cell_type": "code",
   "execution_count": 30,
   "metadata": {},
   "outputs": [
    {
     "data": {
      "text/plain": [
       "[np.float64(7091955512.001373),\n",
       " np.float64(9587796007.87178),\n",
       " np.float64(10713042443.944504),\n",
       " np.float64(11970350465.480103),\n",
       " np.float64(13375219132.769623)]"
      ]
     },
     "execution_count": 30,
     "metadata": {},
     "output_type": "execute_result"
    }
   ],
   "source": [
    "wc_as_perc_of_rev = (merged_df.loc['Working Capital'] / merged_df.loc['Total Revenue']).mean()\n",
    "future_working_cap = [merged_df.loc['Working Capital'][-1]]\n",
    "for i in range(5):\n",
    "    future_working_cap.append(future_revenue[i]*wc_as_perc_of_rev)\n",
    "\n",
    "future_change_working_cap = []\n",
    "\n",
    "\n",
    "for i in range(len(future_working_cap) - 1):\n",
    "    future_change_working_cap.append(future_working_cap[i+1] - future_working_cap[i])\n",
    "\n",
    "future_change_working_cap"
   ]
  },
  {
   "cell_type": "markdown",
   "metadata": {},
   "source": [
    "# Capital Expenditures: as a percent of revenue\n"
   ]
  },
  {
   "cell_type": "code",
   "execution_count": 31,
   "metadata": {},
   "outputs": [
    {
     "data": {
      "text/plain": [
       "[np.float64(-39673334247.73787),\n",
       " np.float64(-44329490671.25128),\n",
       " np.float64(-49532104634.85565),\n",
       " np.float64(-55345309689.05076),\n",
       " np.float64(-61840766249.642365)]"
      ]
     },
     "execution_count": 31,
     "metadata": {},
     "output_type": "execute_result"
    }
   ],
   "source": [
    "future_capex = []\n",
    "capex_as_perc_of_rev = (merged_df.loc['Capital Expenditure'] / merged_df.loc['Total Revenue']).mean()\n",
    "for i in range(5):\n",
    "    future_capex.append((future_revenue[i] * capex_as_perc_of_rev))\n",
    "\n",
    "future_capex"
   ]
  },
  {
   "cell_type": "markdown",
   "metadata": {},
   "source": [
    "# Depreciation and Amortization: Typically based on historical ratios or specific asset schedules.\n",
    "\n"
   ]
  },
  {
   "cell_type": "code",
   "execution_count": 32,
   "metadata": {},
   "outputs": [
    {
     "data": {
      "text/plain": [
       "[np.float64(16869333333.333334),\n",
       " np.float64(16869333333.333334),\n",
       " np.float64(16869333333.333334),\n",
       " np.float64(16869333333.333334),\n",
       " np.float64(16869333333.333334)]"
      ]
     },
     "execution_count": 32,
     "metadata": {},
     "output_type": "execute_result"
    }
   ],
   "source": [
    "future_dep = []\n",
    "avg_depreciation = (merged_df.loc['Reconciled Depreciation']).mean()\n",
    "for i in range(5):\n",
    "    future_dep.append(avg_depreciation)\n",
    "\n",
    "future_dep"
   ]
  },
  {
   "cell_type": "code",
   "execution_count": 33,
   "metadata": {},
   "outputs": [
    {
     "name": "stdout",
     "output_type": "stream",
     "text": [
      "Year 0: 135436848122\n",
      "Year 1: 147688700526\n",
      "Year 2: 163041971140\n",
      "Year 3: 180197137939\n",
      "Year 4: 199365675723\n"
     ]
    }
   ],
   "source": [
    "future_fcf = []\n",
    "for i in range(5):\n",
    "    ebit = future_revenue[i] - future_opex[i]\n",
    "    FCF = (ebit * (1- merged_df.loc['Tax Rate For Calcs'][0])) + future_dep[i] - future_change_working_cap[i] + future_capex[i]\n",
    "    future_fcf.append(FCF)\n",
    "    \n",
    "for i in range(len(future_fcf)):\n",
    "    print(f\"Year {i}: {int(future_fcf[i])}\")\n"
   ]
  },
  {
   "cell_type": "code",
   "execution_count": 34,
   "metadata": {},
   "outputs": [
    {
     "data": {
      "text/plain": [
       "0.07394173354009415"
      ]
     },
     "execution_count": 34,
     "metadata": {},
     "output_type": "execute_result"
    }
   ],
   "source": [
    "\n",
    "def calculate_wacc(company):\n",
    "    # Get the beta value\n",
    "    beta = company.info.get('beta')\n",
    "    if beta is None:\n",
    "        raise ValueError(\"Beta value is not available for this company.\")\n",
    "\n",
    "    # Cost of Equity using CAPM\n",
    "    risk_free_rate = 0.03\n",
    "    market_return = 0.08\n",
    "    cost_of_equity = risk_free_rate + beta * (market_return - risk_free_rate)\n",
    "\n",
    "    # Cost of Debt\n",
    "    interest_expense = company.financials.loc['Interest Expense'][0]\n",
    "    total_debt = company.balance_sheet.loc['Total Debt'][0]\n",
    "    if total_debt == 0:\n",
    "        raise ValueError(\"Total debt is zero; cannot calculate cost of debt.\")\n",
    "    cost_of_debt = interest_expense / total_debt\n",
    "\n",
    "    # Market Capitalization and Total Debt for Capital Structure\n",
    "    market_cap = company.info.get('marketCap')\n",
    "    if market_cap is None:\n",
    "        raise ValueError(\"Market capitalization is not available for this company.\")\n",
    "\n",
    "    total_equity = market_cap\n",
    "    total_debt = company.balance_sheet.loc['Total Debt'][0]\n",
    "    total_value = total_equity + total_debt\n",
    "\n",
    "    # Proportions of Equity and Debt\n",
    "    equity_ratio = total_equity / total_value\n",
    "    debt_ratio = total_debt / total_value\n",
    "\n",
    "    # Tax Rate\n",
    "    tax_rate = company.financials.loc[\"Tax Rate For Calcs\"][0]\n",
    "\n",
    "    # WACC Calculation\n",
    "    wacc = (cost_of_equity * equity_ratio) + (cost_of_debt * debt_ratio * (1 - tax_rate))\n",
    "    \n",
    "    return wacc\n",
    "\n",
    "\n",
    "calculate_wacc(msft)"
   ]
  },
  {
   "cell_type": "code",
   "execution_count": 35,
   "metadata": {},
   "outputs": [],
   "source": [
    "import requests\n",
    "from bs4 import BeautifulSoup\n",
    "\n",
    "# URL of the page to scrape\n",
    "url = \"https://stockanalysis.com/list/sp-500-stocks/\"\n",
    "\n",
    "# Send a GET request to the webpage\n",
    "response = requests.get(url)\n",
    "response.raise_for_status()  # Check that the request was successful\n",
    "\n",
    "# Parse the webpage content\n",
    "soup = BeautifulSoup(response.text, 'html.parser')\n",
    "\n",
    "# Find the table containing the symbols\n",
    "table = soup.find('table')  # Locate the first table on the page\n",
    "\n",
    "if table:\n",
    "    # Extract the symbols from the 2nd 'td' column (index 1)\n",
    "    sp500 = [row.find_all('td')[1].text.strip() for row in table.find_all('tr')[1:]]\n",
    "\n",
    "else:\n",
    "    print(\"Table not found on the page.\")\n",
    "\n"
   ]
  },
  {
   "cell_type": "code",
   "execution_count": 36,
   "metadata": {},
   "outputs": [
    {
     "name": "stdout",
     "output_type": "stream",
     "text": [
      "GOOG- KeyError: 'Net Debt'\n",
      "GOOGL- KeyError: 'Net Debt'\n",
      "META- KeyError: 'Net Debt'\n",
      "BRK.B- KeyError: 'Total Revenue'\n",
      "AVGO- ValueError: Beta value is not available for this company.\n",
      "JPM- KeyError: \"['Operating Expense'] not in index\"\n",
      "COST- KeyError: 'Net Debt'\n",
      "BAC- KeyError: \"['Operating Expense'] not in index\"\n",
      "CRM- KeyError: \"['Interest Expense'] not in index\"\n",
      "AMD- KeyError: 'Net Debt'\n",
      "ACN- KeyError: 'Net Debt'\n",
      "WFC- KeyError: \"['Operating Expense'] not in index\"\n",
      "AXP- KeyError: \"['Operating Expense'] not in index\"\n",
      "ISRG- KeyError: \"['Interest Expense'] not in index\"\n",
      "GS- KeyError: \"['Operating Expense'] not in index\"\n",
      "MS- KeyError: \"['Operating Expense'] not in index\"\n",
      "PGR- KeyError: \"['Operating Expense'] not in index\"\n",
      "SYK- KeyError: \"['Interest Expense'] not in index\"\n",
      "TJX- KeyError: 'Net Debt'\n",
      "ELV- KeyError: \"['Operating Expense'] not in index\"\n",
      "REGN- KeyError: 'Net Debt'\n",
      "NKE- KeyError: \"['Interest Expense'] not in index\"\n",
      "VRTX- KeyError: 'Net Debt'\n",
      "PLD- KeyError: \"['Capital Expenditure'] not in index\"\n",
      "CB- KeyError: \"['Operating Expense'] not in index\"\n",
      "SCHW- KeyError: \"['Operating Expense'] not in index\"\n",
      "C- KeyError: \"['Operating Expense'] not in index\"\n",
      "BX- KeyError: \"None of [Index(['Working Capital'], dtype='object')] are in the [index]\"\n",
      "KKR- KeyError: \"['Reconciled Depreciation'] not in index\"\n",
      "CI- KeyError: \"['Operating Expense'] not in index\"\n",
      "ANET- KeyError: 'Net Debt'\n",
      "CMG- KeyError: \"['Interest Expense'] not in index\"\n",
      "ABNB- KeyError: 'Net Debt'\n",
      "SNPS- KeyError: 'Net Debt'\n",
      "PNC- KeyError: \"['Operating Expense'] not in index\"\n",
      "USB- KeyError: \"['Operating Expense'] not in index\"\n",
      "CDNS- KeyError: 'Net Debt'\n",
      "AFL- KeyError: \"['Operating Expense', 'Reconciled Depreciation'] not in index\"\n",
      "DHI- KeyError: \"['Interest Expense'] not in index\"\n",
      "CRWD- KeyError: 'Net Debt'\n",
      "FTNT- KeyError: 'Net Debt'\n",
      "TFC- KeyError: \"['Operating Expense'] not in index\"\n",
      "GEV- ValueError: Beta value is not available for this company.\n",
      "O- KeyError: \"['Capital Expenditure'] not in index\"\n",
      "TRV- KeyError: \"['Operating Expense'] not in index\"\n",
      "COF- KeyError: \"['Operating Expense'] not in index\"\n",
      "MET- KeyError: \"['Operating Expense'] not in index\"\n",
      "ROST- KeyError: 'Net Debt'\n",
      "BK- KeyError: \"['Operating Expense'] not in index\"\n",
      "ALL- KeyError: \"['Operating Expense'] not in index\"\n",
      "PCAR- KeyError: \"['Interest Expense'] not in index\"\n",
      "DLR- KeyError: \"['Capital Expenditure'] not in index\"\n",
      "MNST- KeyError: \"['Interest Expense'] not in index\"\n",
      "CPRT- KeyError: 'Net Debt'\n",
      "AIG- KeyError: \"['Operating Expense'] not in index\"\n",
      "KVUE- ValueError: Beta value is not available for this company.\n",
      "HUM- KeyError: \"['Operating Expense'] not in index\"\n",
      "AMP- KeyError: \"['Operating Expense'] not in index\"\n",
      "ACGL- KeyError: \"['Operating Expense'] not in index\"\n",
      "PRU- KeyError: \"['Operating Expense', 'Interest Expense'] not in index\"\n",
      "EW- KeyError: 'Net Debt'\n",
      "ODFL- KeyError: 'Net Debt'\n",
      "MPWR- KeyError: \"['Interest Expense'] not in index\"\n",
      "GEHC- ValueError: Beta value is not available for this company.\n",
      "CTVA- KeyError: 'Net Debt'\n",
      "EA- KeyError: 'Net Debt'\n",
      "CTSH- KeyError: 'Net Debt'\n",
      "GRMN- KeyError: \"['Interest Expense'] not in index\"\n",
      "HIG- KeyError: \"['Operating Expense'] not in index\"\n",
      "DFS- KeyError: \"['Operating Expense'] not in index\"\n",
      "CSGP- KeyError: 'Net Debt'\n",
      "LULU- KeyError: \"['Interest Expense'] not in index\"\n",
      "MRNA- KeyError: 'Net Debt'\n",
      "NVR- KeyError: 'Net Debt'\n",
      "MTB- KeyError: \"['Operating Expense'] not in index\"\n",
      "FITB- KeyError: \"['Operating Expense'] not in index\"\n",
      "VLTO- ValueError: Beta value is not available for this company.\n",
      "STT- KeyError: \"['Operating Expense'] not in index\"\n",
      "RJF- KeyError: \"['Operating Expense'] not in index\"\n",
      "SW- KeyError: 'Net Debt'\n",
      "TROW- KeyError: \"['Interest Expense'] not in index\"\n",
      "FSLR- KeyError: 'Net Debt'\n",
      "WRB- KeyError: \"['Operating Expense'] not in index\"\n",
      "DECK- KeyError: 'Net Debt'\n",
      "WST- KeyError: 'Net Debt'\n",
      "BF.B- KeyError: 'Total Revenue'\n",
      "BBY- KeyError: 'Net Debt'\n",
      "CINF- KeyError: \"['Operating Expense'] not in index\"\n",
      "HBAN- KeyError: \"['Operating Expense'] not in index\"\n",
      "ARE- KeyError: \"['Capital Expenditure'] not in index\"\n",
      "RF- KeyError: \"['Operating Expense'] not in index\"\n",
      "TER- KeyError: 'Net Debt'\n",
      "MOH- KeyError: 'Net Debt'\n",
      "SYF- KeyError: \"['Operating Expense'] not in index\"\n",
      "CFG- KeyError: \"['Operating Expense'] not in index\"\n",
      "PFG- KeyError: \"['Operating Expense', 'Interest Expense'] not in index\"\n",
      "NTRS- KeyError: \"['Operating Expense'] not in index\"\n",
      "L- KeyError: \"['Operating Expense'] not in index\"\n",
      "ULTA- KeyError: \"['Interest Expense'] not in index\"\n",
      "EXPD- KeyError: 'Net Debt'\n",
      "EG- KeyError: \"['Operating Expense', 'Reconciled Depreciation'] not in index\"\n",
      "ALGN- KeyError: \"['Interest Expense'] not in index\"\n",
      "KIM- KeyError: \"['Capital Expenditure'] not in index\"\n",
      "DOC- KeyError: \"['Capital Expenditure'] not in index\"\n",
      "LNT- KeyError: \"['Capital Expenditure'] not in index\"\n",
      "KEY- KeyError: \"['Operating Expense'] not in index\"\n",
      "REG- KeyError: \"['Capital Expenditure'] not in index\"\n",
      "INCY- KeyError: 'Net Debt'\n",
      "BXP- KeyError: \"['Capital Expenditure'] not in index\"\n",
      "EPAM- KeyError: 'Net Debt'\n",
      "FFIV- KeyError: \"['Interest Expense'] not in index\"\n",
      "SOLV- KeyError: \"['Interest Expense'] not in index\"\n",
      "AOS- KeyError: 'Net Debt'\n",
      "RL- KeyError: 'Net Debt'\n",
      "AIZ- KeyError: \"['Operating Expense'] not in index\"\n",
      "MKTX- KeyError: 'Net Debt'\n",
      "GL- KeyError: \"['Operating Expense', 'Reconciled Depreciation'] not in index\"\n",
      "PAYC- KeyError: 'Net Debt'\n"
     ]
    }
   ],
   "source": [
    "from DCF_Calculator import main\n",
    "\n",
    "estimations = []\n",
    "for ticker in sp500:\n",
    "    try:\n",
    "        actual_high = yf.Ticker(ticker).info.get('dayHigh')\n",
    "        actual_low = yf.Ticker(ticker).info.get('dayLow')\n",
    "        estimated_price = main(ticker, 5, '1')\n",
    "        estimations.append((ticker,estimated_price,actual_high, actual_low))\n",
    "    except Exception as e:\n",
    "        print(f\"{ticker}- {type(e).__name__}: {e}\")"
   ]
  },
  {
   "cell_type": "code",
   "execution_count": 37,
   "metadata": {},
   "outputs": [
    {
     "data": {
      "text/plain": [
       "385"
      ]
     },
     "execution_count": 37,
     "metadata": {},
     "output_type": "execute_result"
    }
   ],
   "source": [
    "len(estimations)"
   ]
  },
  {
   "cell_type": "code",
   "execution_count": 38,
   "metadata": {},
   "outputs": [
    {
     "data": {
      "text/plain": [
       "0       (AAPL, 420.4263408775997, 225.24, 219.77)\n",
       "1        (MSFT, 524.5091276089129, 410.65, 400.8)\n",
       "2       (NVDA, 39.30452484499742, 108.15, 100.95)\n",
       "3                    (AMZN, nan, 178.365, 171.25)\n",
       "4       (LLY, 758.2797850921114, 927.9022, 893.0)\n",
       "                          ...                    \n",
       "380           (AAL, 6462.61201790886, 11.1, 10.7)\n",
       "381        (IVZ, 330.6489991991721, 16.445, 15.7)\n",
       "382       (PARA, 738.6490925092403, 10.42, 10.08)\n",
       "383       (BBWI, 376.6879243918952, 29.58, 28.48)\n",
       "384    (ETSY, 162.12476913763857, 56.1424, 53.12)\n",
       "Length: 385, dtype: object"
      ]
     },
     "execution_count": 38,
     "metadata": {},
     "output_type": "execute_result"
    }
   ],
   "source": [
    "estimations = pd.Series(estimations)\n",
    "estimations[estimations.isna() == False]"
   ]
  },
  {
   "cell_type": "code",
   "execution_count": 39,
   "metadata": {},
   "outputs": [
    {
     "data": {
      "text/plain": [
       "503"
      ]
     },
     "execution_count": 39,
     "metadata": {},
     "output_type": "execute_result"
    }
   ],
   "source": [
    "len(sp500)"
   ]
  },
  {
   "cell_type": "code",
   "execution_count": null,
   "metadata": {},
   "outputs": [],
   "source": []
  }
 ],
 "metadata": {
  "kernelspec": {
   "display_name": "venv",
   "language": "python",
   "name": "python3"
  },
  "language_info": {
   "codemirror_mode": {
    "name": "ipython",
    "version": 3
   },
   "file_extension": ".py",
   "mimetype": "text/x-python",
   "name": "python",
   "nbconvert_exporter": "python",
   "pygments_lexer": "ipython3",
   "version": "3.11.3"
  },
  "orig_nbformat": 4
 },
 "nbformat": 4,
 "nbformat_minor": 2
}
